{
 "cells": [
  {
   "cell_type": "code",
   "execution_count": 1,
   "outputs": [],
   "source": [
    "import sys\n",
    "sys.path.append(r\"D:\\home\\school\\ntut\\project\\CardiacLab\\radiology\")"
   ],
   "metadata": {
    "collapsed": false,
    "pycharm": {
     "name": "#%%\n"
    }
   }
  },
  {
   "cell_type": "code",
   "execution_count": 60,
   "metadata": {
    "collapsed": true
   },
   "outputs": [],
   "source": [
    "import os\n",
    "from pathlib import PurePath\n",
    "from functools import partial\n",
    "\n",
    "import matplotlib.pyplot as plt\n",
    "\n",
    "import torch\n",
    "\n",
    "from monai.data import decollate_batch\n",
    "from monai.transforms import (\n",
    "    Compose,\n",
    "    AddChanneld,\n",
    "    Activationsd,\n",
    "    AsDiscreted,\n",
    "    EnsureChannelFirstd,\n",
    "    EnsureTyped,\n",
    "    LoadImaged,\n",
    "    ScaleIntensityRanged,\n",
    "    Spacingd,\n",
    "    Orientationd,\n",
    "    ToNumpyd,\n",
    "    SqueezeDimd\n",
    ")\n",
    "from monai.inferers import sliding_window_inference, SlidingWindowInferer\n",
    "\n",
    "from monailabel.transform.post import Restored\n",
    "from networks.network import network"
   ]
  },
  {
   "cell_type": "code",
   "execution_count": 94,
   "outputs": [],
   "source": [
    "def infer(model, data, model_inferer, device):\n",
    "    model.eval()\n",
    "    with torch.no_grad():\n",
    "        output = model_inferer(data['image'].to(device), model)\n",
    "        # output = torch.argmax(output, dim=1)\n",
    "    return output\n",
    "\n",
    "\n",
    "def run_infering(\n",
    "        model,\n",
    "        data,\n",
    "        model_inferer,\n",
    "        post_transforms,\n",
    "        device\n",
    "    ):\n",
    "    data['pred'] = infer(model, data, model_inferer, device)\n",
    "    data = post_transforms(data)\n",
    "    return data\n",
    "\n",
    "\n",
    "def pre_transforms(target_spacing):\n",
    "    return Compose([\n",
    "        LoadImaged(keys=\"image\"),\n",
    "        EnsureTyped(keys=\"image\"),\n",
    "        EnsureChannelFirstd(keys=\"image\"),\n",
    "        Orientationd(keys=[\"image\"], axcodes=\"RAS\"),\n",
    "        Spacingd(keys=\"image\", pixdim=target_spacing, mode=(\"bilinear\")),\n",
    "        ScaleIntensityRanged(keys=\"image\", a_min=-175, a_max=250, b_min=0.0, b_max=1.0, clip=True),\n",
    "        AddChanneld(keys=[\"image\"])\n",
    "    ])\n",
    "\n",
    "def post_transforms():\n",
    "    return Compose([\n",
    "        EnsureTyped(keys=\"pred\"),\n",
    "        # Activationsd(keys=\"pred\", softmax=True),\n",
    "        SqueezeDimd(keys=\"pred\"),\n",
    "        AsDiscreted(keys=\"pred\", argmax=True),\n",
    "        # SqueezeDimd(keys=\"pred\"),\n",
    "        # Orientationd(keys=[\"pred\"], axcodes=\"LPS\"),\n",
    "        ToNumpyd(keys=\"pred\"),\n",
    "        # Restored(keys=\"pred\", ref_image=\"image\"),\n",
    "    ])\n",
    "\n"
   ],
   "metadata": {
    "collapsed": false,
    "pycharm": {
     "name": "#%%\n"
    }
   }
  },
  {
   "cell_type": "code",
   "execution_count": 49,
   "outputs": [],
   "source": [
    "data_dict = {\n",
    "    'image': r'D:\\home\\school\\ntut\\project\\CardiacLab\\data\\imagesTr\\pid_106.nii.gz'\n",
    "}"
   ],
   "metadata": {
    "collapsed": false,
    "pycharm": {
     "name": "#%%\n"
    }
   }
  },
  {
   "cell_type": "code",
   "execution_count": 50,
   "outputs": [],
   "source": [
    "data = pre_transforms([0.7,0.7,1.0])(data_dict)"
   ],
   "metadata": {
    "collapsed": false,
    "pycharm": {
     "name": "#%%\n"
    }
   }
  },
  {
   "cell_type": "code",
   "execution_count": 88,
   "outputs": [
    {
     "data": {
      "text/plain": "torch.Size([1, 1, 310, 310, 162])"
     },
     "execution_count": 88,
     "metadata": {},
     "output_type": "execute_result"
    }
   ],
   "source": [
    "data['image'].shape"
   ],
   "metadata": {
    "collapsed": false,
    "pycharm": {
     "name": "#%%\n"
    }
   }
  },
  {
   "cell_type": "code",
   "execution_count": 95,
   "outputs": [
    {
     "name": "stdout",
     "output_type": "stream",
     "text": [
      "model: unetcnx\n"
     ]
    }
   ],
   "source": [
    "# model\n",
    "device = 'cuda'\n",
    "\n",
    "model = network(\n",
    "    'unetcnx',\n",
    "    in_channels=1,\n",
    "    out_channels=2\n",
    ").to(device)\n",
    "\n",
    "# check point\n",
    "checkpoint_pth = r'D:\\home\\school\\ntut\\project\\CardiacLab\\radiology\\model\\unetcnx\\best_model.pth'\n",
    "checkpoint = torch.load(checkpoint_pth, map_location=\"cpu\")\n",
    "model.load_state_dict(checkpoint[\"state_dict\"])\n",
    "\n",
    "# infer func\n",
    "model_inferer = SlidingWindowInferer(\n",
    "    roi_size=[96, 96, 96],\n",
    "    sw_batch_size=4,\n",
    "    overlap=0.25,\n",
    ")\n",
    "\n",
    "out = run_infering(\n",
    "    model,\n",
    "    data,\n",
    "    model_inferer,\n",
    "    post_transforms(),\n",
    "    device\n",
    ")"
   ],
   "metadata": {
    "collapsed": false,
    "pycharm": {
     "name": "#%%\n"
    }
   }
  },
  {
   "cell_type": "code",
   "execution_count": 96,
   "outputs": [
    {
     "data": {
      "text/plain": "(1, 310, 310, 162)"
     },
     "execution_count": 96,
     "metadata": {},
     "output_type": "execute_result"
    }
   ],
   "source": [
    "out['pred'].shape"
   ],
   "metadata": {
    "collapsed": false,
    "pycharm": {
     "name": "#%%\n"
    }
   }
  },
  {
   "cell_type": "code",
   "execution_count": 98,
   "outputs": [
    {
     "data": {
      "text/plain": "<matplotlib.image.AxesImage at 0x23d808b3808>"
     },
     "execution_count": 98,
     "metadata": {},
     "output_type": "execute_result"
    },
    {
     "data": {
      "text/plain": "<Figure size 640x480 with 1 Axes>",
      "image/png": "[encoded data removed]"
     },
     "metadata": {},
     "output_type": "display_data"
    }
   ],
   "source": [
    "plt.imshow(out['pred'][0, :,:,80])"
   ],
   "metadata": {
    "collapsed": false,
    "pycharm": {
     "name": "#%%\n"
    }
   }
  }
 ],
 "metadata": {
  "kernelspec": {
   "display_name": "Python 3",
   "language": "python",
   "name": "python3"
  },
  "language_info": {
   "codemirror_mode": {
    "name": "ipython",
    "version": 2
   },
   "file_extension": ".py",
   "mimetype": "text/x-python",
   "name": "python",
   "nbconvert_exporter": "python",
   "pygments_lexer": "ipython2",
   "version": "2.7.6"
  }
 },
 "nbformat": 4,
 "nbformat_minor": 0
}