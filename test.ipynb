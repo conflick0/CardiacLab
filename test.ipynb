{
 "cells": [
  {
   "cell_type": "code",
   "execution_count": 1,
   "outputs": [],
   "source": [
    "import sys\n",
    "import os\n",
    "root_dir = r'C:\\Users\\cg\\Desktop\\project\\CardiacLab'\n",
    "sys.path.append(os.path.join(root_dir, 'radiology'))"
   ],
   "metadata": {
    "collapsed": false
   }
  },
  {
   "cell_type": "code",
   "execution_count": 2,
   "metadata": {
    "collapsed": true
   },
   "outputs": [],
   "source": [
    "import os\n",
    "from pathlib import PurePath\n",
    "from functools import partial\n",
    "\n",
    "import matplotlib.pyplot as plt\n",
    "\n",
    "import torch\n",
    "\n",
    "from monai.data import decollate_batch\n",
    "from monai.transforms import (\n",
    "    Compose,\n",
    "    AddChanneld,\n",
    "    Activationsd,\n",
    "    AsDiscreted,\n",
    "    EnsureChannelFirstd,\n",
    "    EnsureTyped,\n",
    "    LoadImaged,\n",
    "    ScaleIntensityRanged,\n",
    "    Spacingd,\n",
    "    Orientationd,\n",
    "    ToNumpyd,\n",
    "    SqueezeDimd\n",
    ")\n",
    "from monai.inferers import sliding_window_inference, SlidingWindowInferer\n",
    "\n",
    "from monailabel.transform.post import Restored\n",
    "from networks.network import network"
   ]
  },
  {
   "cell_type": "code",
   "execution_count": 32,
   "outputs": [],
   "source": [
    "def infer(model, data, model_inferer, device):\n",
    "    model.eval()\n",
    "    with torch.no_grad():\n",
    "        output = model_inferer(data['image'].to(device), model)\n",
    "    return output\n",
    "\n",
    "\n",
    "def run_infering(\n",
    "        model,\n",
    "        data,\n",
    "        model_inferer,\n",
    "        post_transforms,\n",
    "        device\n",
    "    ):\n",
    "    data['pred'] = infer(model, data, model_inferer, device)\n",
    "    data['pred'] = data['pred'][0]\n",
    "    data = post_transforms(data)\n",
    "    return data\n",
    "\n",
    "\n",
    "def pre_transforms(target_spacing):\n",
    "    return Compose([\n",
    "        LoadImaged(keys=\"image\"),\n",
    "        AddChanneld(keys=\"image\"),\n",
    "        Orientationd(keys=[\"image\"], axcodes=\"RAS\"),\n",
    "        Spacingd(keys=\"image\", pixdim=target_spacing, mode=(\"bilinear\")),\n",
    "        ScaleIntensityRanged(keys=\"image\", a_min=-175, a_max=250, b_min=0.0, b_max=1.0, clip=True),\n",
    "        AddChanneld(keys=[\"image\"])\n",
    "    ])\n",
    "\n",
    "def post_transforms():\n",
    "    return Compose([\n",
    "        EnsureTyped(keys=\"pred\"),\n",
    "        AsDiscreted(keys=\"pred\", argmax=True),\n",
    "        Orientationd(keys=[\"pred\"], axcodes=\"LPS\"),\n",
    "        ToNumpyd(keys=\"pred\"),\n",
    "        Restored(keys=\"pred\", ref_image=\"image\"),\n",
    "    ])\n",
    "\n"
   ],
   "metadata": {
    "collapsed": false
   }
  },
  {
   "cell_type": "code",
   "execution_count": 4,
   "outputs": [],
   "source": [
    "data_dict = {\n",
    "    'image': os.path.join(root_dir, 'data/imagesTr/pid_1000.nii.gz')\n",
    "}"
   ],
   "metadata": {
    "collapsed": false
   }
  },
  {
   "cell_type": "code",
   "execution_count": 5,
   "outputs": [
    {
     "data": {
      "text/plain": "{'image': 'C:\\\\Users\\\\cg\\\\Desktop\\\\project\\\\CardiacLab\\\\data/imagesTr/pid_1000.nii.gz'}"
     },
     "execution_count": 5,
     "metadata": {},
     "output_type": "execute_result"
    }
   ],
   "source": [
    "data_dict"
   ],
   "metadata": {
    "collapsed": false
   }
  },
  {
   "cell_type": "code",
   "execution_count": 6,
   "outputs": [
    {
     "name": "stderr",
     "output_type": "stream",
     "text": [
      "<class 'monai.transforms.utility.array.AddChannel'>: Class `AddChannel` has been deprecated since version 0.8. please use MetaTensor data type and monai.transforms.EnsureChannelFirst instead.\n"
     ]
    }
   ],
   "source": [
    "data = pre_transforms([0.7,0.7,1.0])(data_dict)"
   ],
   "metadata": {
    "collapsed": false
   }
  },
  {
   "cell_type": "code",
   "execution_count": 7,
   "outputs": [
    {
     "data": {
      "text/plain": "torch.Size([1, 1, 270, 270, 143])"
     },
     "execution_count": 7,
     "metadata": {},
     "output_type": "execute_result"
    }
   ],
   "source": [
    "data['image'].shape"
   ],
   "metadata": {
    "collapsed": false
   }
  },
  {
   "cell_type": "code",
   "execution_count": 33,
   "outputs": [
    {
     "name": "stdout",
     "output_type": "stream",
     "text": [
      "model: swinunetr\n"
     ]
    },
    {
     "name": "stderr",
     "output_type": "stream",
     "text": [
      "None of the inputs have requires_grad=True. Gradients will be None\n"
     ]
    }
   ],
   "source": [
    "# model\n",
    "device = 'cuda'\n",
    "\n",
    "model = network(\n",
    "    'swinunetr',\n",
    "    in_channels=1,\n",
    "    out_channels=2\n",
    ").to(device)\n",
    "\n",
    "# check point\n",
    "checkpoint_pth = os.path.join(root_dir, 'radiology/model/swinunetr/best_model.pth')\n",
    "checkpoint = torch.load(checkpoint_pth)\n",
    "model.load_state_dict(checkpoint[\"state_dict\"])\n",
    "\n",
    "# infer func\n",
    "model_inferer = SlidingWindowInferer(\n",
    "    roi_size=[96, 96, 96],\n",
    "    sw_batch_size=2,\n",
    "    overlap=0.25,\n",
    ")\n",
    "\n",
    "out = run_infering(\n",
    "    model,\n",
    "    data,\n",
    "    model_inferer,\n",
    "    post_transforms(),\n",
    "    device\n",
    ")"
   ],
   "metadata": {
    "collapsed": false
   }
  },
  {
   "cell_type": "code",
   "execution_count": 34,
   "outputs": [
    {
     "data": {
      "text/plain": "<matplotlib.image.AxesImage at 0x1fed805feb0>"
     },
     "execution_count": 34,
     "metadata": {},
     "output_type": "execute_result"
    },
    {
     "data": {
      "text/plain": "<Figure size 640x480 with 1 Axes>",
      "image/png": "[encoded data removed]"
     },
     "metadata": {},
     "output_type": "display_data"
    }
   ],
   "source": [
    "plt.imshow(out['pred'][:,:,80], cmap='gray')"
   ],
   "metadata": {
    "collapsed": false
   }
  }
 ],
 "metadata": {
  "kernelspec": {
   "display_name": "Python 3",
   "language": "python",
   "name": "python3"
  },
  "language_info": {
   "codemirror_mode": {
    "name": "ipython",
    "version": 2
   },
   "file_extension": ".py",
   "mimetype": "text/x-python",
   "name": "python",
   "nbconvert_exporter": "python",
   "pygments_lexer": "ipython2",
   "version": "2.7.6"
  }
 },
 "nbformat": 4,
 "nbformat_minor": 0
}
